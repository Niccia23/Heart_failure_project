{
 "cells": [
  {
   "cell_type": "markdown",
   "metadata": {},
   "source": [
    "# Heart Failure Project \n"
   ]
  },
  {
   "cell_type": "markdown",
   "metadata": {},
   "source": [
    "## Importing libraries and dataset"
   ]
  },
  {
   "cell_type": "code",
   "execution_count": 1,
   "metadata": {},
   "outputs": [],
   "source": [
    "import pandas as pd\n",
    "from sklearn.preprocessing import StandardScaler, LabelEncoder\n",
    "from sklearn.model_selection import train_test_split\n",
    "from collections import Counter\n",
    "from sklearn.compose import ColumnTransformer\n",
    "from tensorflow.keras.models import Sequential\n",
    "from tensorflow.keras.layers import Dense, InputLayer\n",
    "from sklearn.metrics import classification_report\n",
    "from tensorflow.keras.utils import to_categorical\n",
    "import numpy as np"
   ]
  },
  {
   "cell_type": "code",
   "execution_count": 3,
   "metadata": {},
   "outputs": [],
   "source": [
    "data = pd.read_csv('heart_failure_clinical_records_dataset.csv')"
   ]
  },
  {
   "cell_type": "markdown",
   "metadata": {},
   "source": [
    "## Define the problem - Data Inspection"
   ]
  },
  {
   "cell_type": "code",
   "execution_count": 4,
   "metadata": {},
   "outputs": [
    {
     "data": {
      "text/html": [
       "<div>\n",
       "<style scoped>\n",
       "    .dataframe tbody tr th:only-of-type {\n",
       "        vertical-align: middle;\n",
       "    }\n",
       "\n",
       "    .dataframe tbody tr th {\n",
       "        vertical-align: top;\n",
       "    }\n",
       "\n",
       "    .dataframe thead th {\n",
       "        text-align: right;\n",
       "    }\n",
       "</style>\n",
       "<table border=\"1\" class=\"dataframe\">\n",
       "  <thead>\n",
       "    <tr style=\"text-align: right;\">\n",
       "      <th></th>\n",
       "      <th>age</th>\n",
       "      <th>anaemia</th>\n",
       "      <th>creatinine_phosphokinase</th>\n",
       "      <th>diabetes</th>\n",
       "      <th>ejection_fraction</th>\n",
       "      <th>high_blood_pressure</th>\n",
       "      <th>platelets</th>\n",
       "      <th>serum_creatinine</th>\n",
       "      <th>serum_sodium</th>\n",
       "      <th>sex</th>\n",
       "      <th>smoking</th>\n",
       "      <th>time</th>\n",
       "      <th>DEATH_EVENT</th>\n",
       "    </tr>\n",
       "  </thead>\n",
       "  <tbody>\n",
       "    <tr>\n",
       "      <th>0</th>\n",
       "      <td>75.0</td>\n",
       "      <td>0</td>\n",
       "      <td>582</td>\n",
       "      <td>0</td>\n",
       "      <td>20</td>\n",
       "      <td>1</td>\n",
       "      <td>265000.00</td>\n",
       "      <td>1.9</td>\n",
       "      <td>130</td>\n",
       "      <td>1</td>\n",
       "      <td>0</td>\n",
       "      <td>4</td>\n",
       "      <td>1</td>\n",
       "    </tr>\n",
       "    <tr>\n",
       "      <th>1</th>\n",
       "      <td>55.0</td>\n",
       "      <td>0</td>\n",
       "      <td>7861</td>\n",
       "      <td>0</td>\n",
       "      <td>38</td>\n",
       "      <td>0</td>\n",
       "      <td>263358.03</td>\n",
       "      <td>1.1</td>\n",
       "      <td>136</td>\n",
       "      <td>1</td>\n",
       "      <td>0</td>\n",
       "      <td>6</td>\n",
       "      <td>1</td>\n",
       "    </tr>\n",
       "    <tr>\n",
       "      <th>2</th>\n",
       "      <td>65.0</td>\n",
       "      <td>0</td>\n",
       "      <td>146</td>\n",
       "      <td>0</td>\n",
       "      <td>20</td>\n",
       "      <td>0</td>\n",
       "      <td>162000.00</td>\n",
       "      <td>1.3</td>\n",
       "      <td>129</td>\n",
       "      <td>1</td>\n",
       "      <td>1</td>\n",
       "      <td>7</td>\n",
       "      <td>1</td>\n",
       "    </tr>\n",
       "    <tr>\n",
       "      <th>3</th>\n",
       "      <td>50.0</td>\n",
       "      <td>1</td>\n",
       "      <td>111</td>\n",
       "      <td>0</td>\n",
       "      <td>20</td>\n",
       "      <td>0</td>\n",
       "      <td>210000.00</td>\n",
       "      <td>1.9</td>\n",
       "      <td>137</td>\n",
       "      <td>1</td>\n",
       "      <td>0</td>\n",
       "      <td>7</td>\n",
       "      <td>1</td>\n",
       "    </tr>\n",
       "    <tr>\n",
       "      <th>4</th>\n",
       "      <td>65.0</td>\n",
       "      <td>1</td>\n",
       "      <td>160</td>\n",
       "      <td>1</td>\n",
       "      <td>20</td>\n",
       "      <td>0</td>\n",
       "      <td>327000.00</td>\n",
       "      <td>2.7</td>\n",
       "      <td>116</td>\n",
       "      <td>0</td>\n",
       "      <td>0</td>\n",
       "      <td>8</td>\n",
       "      <td>1</td>\n",
       "    </tr>\n",
       "  </tbody>\n",
       "</table>\n",
       "</div>"
      ],
      "text/plain": [
       "    age  anaemia  creatinine_phosphokinase  diabetes  ejection_fraction  \\\n",
       "0  75.0        0                       582         0                 20   \n",
       "1  55.0        0                      7861         0                 38   \n",
       "2  65.0        0                       146         0                 20   \n",
       "3  50.0        1                       111         0                 20   \n",
       "4  65.0        1                       160         1                 20   \n",
       "\n",
       "   high_blood_pressure  platelets  serum_creatinine  serum_sodium  sex  \\\n",
       "0                    1  265000.00               1.9           130    1   \n",
       "1                    0  263358.03               1.1           136    1   \n",
       "2                    0  162000.00               1.3           129    1   \n",
       "3                    0  210000.00               1.9           137    1   \n",
       "4                    0  327000.00               2.7           116    0   \n",
       "\n",
       "   smoking  time  DEATH_EVENT  \n",
       "0        0     4            1  \n",
       "1        0     6            1  \n",
       "2        1     7            1  \n",
       "3        0     7            1  \n",
       "4        0     8            1  "
      ]
     },
     "execution_count": 4,
     "metadata": {},
     "output_type": "execute_result"
    }
   ],
   "source": [
    "data.head()"
   ]
  },
  {
   "cell_type": "code",
   "execution_count": 5,
   "metadata": {},
   "outputs": [
    {
     "data": {
      "text/plain": [
       "Index(['age', 'anaemia', 'creatinine_phosphokinase', 'diabetes',\n",
       "       'ejection_fraction', 'high_blood_pressure', 'platelets',\n",
       "       'serum_creatinine', 'serum_sodium', 'sex', 'smoking', 'time',\n",
       "       'DEATH_EVENT'],\n",
       "      dtype='object')"
      ]
     },
     "execution_count": 5,
     "metadata": {},
     "output_type": "execute_result"
    }
   ],
   "source": [
    "data.columns"
   ]
  },
  {
   "cell_type": "code",
   "execution_count": 6,
   "metadata": {},
   "outputs": [
    {
     "name": "stdout",
     "output_type": "stream",
     "text": [
      "<class 'pandas.core.frame.DataFrame'>\n",
      "RangeIndex: 299 entries, 0 to 298\n",
      "Data columns (total 13 columns):\n",
      "age                         299 non-null float64\n",
      "anaemia                     299 non-null int64\n",
      "creatinine_phosphokinase    299 non-null int64\n",
      "diabetes                    299 non-null int64\n",
      "ejection_fraction           299 non-null int64\n",
      "high_blood_pressure         299 non-null int64\n",
      "platelets                   299 non-null float64\n",
      "serum_creatinine            299 non-null float64\n",
      "serum_sodium                299 non-null int64\n",
      "sex                         299 non-null int64\n",
      "smoking                     299 non-null int64\n",
      "time                        299 non-null int64\n",
      "DEATH_EVENT                 299 non-null int64\n",
      "dtypes: float64(3), int64(10)\n",
      "memory usage: 30.4 KB\n",
      "None\n"
     ]
    }
   ],
   "source": [
    "print(data.info())"
   ]
  },
  {
   "cell_type": "code",
   "execution_count": 8,
   "metadata": {},
   "outputs": [
    {
     "name": "stdout",
     "output_type": "stream",
     "text": [
      "Classes and number of values in the dataset Counter({0: 203, 1: 96})\n"
     ]
    }
   ],
   "source": [
    "print('Classes and number of values in the dataset',Counter(data['DEATH_EVENT']))"
   ]
  },
  {
   "cell_type": "markdown",
   "metadata": {},
   "source": [
    "We can clearly see that the dataset column 'Death Event' is not balanced, the target 1 is like half the target 0"
   ]
  },
  {
   "cell_type": "markdown",
   "metadata": {},
   "source": [
    "### Creating X and Y, features and target"
   ]
  },
  {
   "cell_type": "code",
   "execution_count": 10,
   "metadata": {},
   "outputs": [],
   "source": [
    "y = data['DEATH_EVENT']"
   ]
  },
  {
   "cell_type": "code",
   "execution_count": 11,
   "metadata": {},
   "outputs": [],
   "source": [
    "x = data[['age','anaemia','creatinine_phosphokinase','diabetes','ejection_fraction','high_blood_pressure','platelets','serum_creatinine','serum_sodium','sex','smoking','time']]"
   ]
  },
  {
   "cell_type": "markdown",
   "metadata": {},
   "source": [
    "### Converting X features to categorical values"
   ]
  },
  {
   "cell_type": "code",
   "execution_count": 12,
   "metadata": {},
   "outputs": [],
   "source": [
    "x  = pd.get_dummies(x)"
   ]
  },
  {
   "cell_type": "markdown",
   "metadata": {},
   "source": [
    "### Splitting to train and test"
   ]
  },
  {
   "cell_type": "code",
   "execution_count": 17,
   "metadata": {},
   "outputs": [],
   "source": [
    "X_train, X_test, Y_train, Y_test = train_test_split(x, y, test_size = 0.3, random_state = 42)"
   ]
  },
  {
   "cell_type": "markdown",
   "metadata": {},
   "source": [
    "### Scaling the features using standardscaler"
   ]
  },
  {
   "cell_type": "code",
   "execution_count": 18,
   "metadata": {},
   "outputs": [],
   "source": [
    "ct = ColumnTransformer([(\"numeric\", StandardScaler(), ['age','creatinine_phosphokinase','ejection_fraction','platelets','serum_creatinine','serum_sodium','time'])])"
   ]
  },
  {
   "cell_type": "code",
   "execution_count": 19,
   "metadata": {},
   "outputs": [
    {
     "name": "stderr",
     "output_type": "stream",
     "text": [
      "/Users/nicolo/.pyenv/versions/3.7.7/envs/lewagon/lib/python3.7/site-packages/sklearn/preprocessing/data.py:645: DataConversionWarning: Data with input dtype int64, float64 were all converted to float64 by StandardScaler.\n",
      "  return self.partial_fit(X, y)\n",
      "/Users/nicolo/.pyenv/versions/3.7.7/envs/lewagon/lib/python3.7/site-packages/sklearn/base.py:464: DataConversionWarning: Data with input dtype int64, float64 were all converted to float64 by StandardScaler.\n",
      "  return self.fit(X, **fit_params).transform(X)\n"
     ]
    }
   ],
   "source": [
    "X_train = ct.fit_transform(X_train)"
   ]
  },
  {
   "cell_type": "code",
   "execution_count": 20,
   "metadata": {},
   "outputs": [
    {
     "name": "stderr",
     "output_type": "stream",
     "text": [
      "/Users/nicolo/.pyenv/versions/3.7.7/envs/lewagon/lib/python3.7/site-packages/sklearn/pipeline.py:605: DataConversionWarning: Data with input dtype int64, float64 were all converted to float64 by StandardScaler.\n",
      "  res = transformer.transform(X)\n"
     ]
    }
   ],
   "source": [
    "X_test = ct.transform(X_test)"
   ]
  },
  {
   "cell_type": "markdown",
   "metadata": {},
   "source": [
    "### Preparing the labels for the classification"
   ]
  },
  {
   "cell_type": "code",
   "execution_count": 21,
   "metadata": {},
   "outputs": [],
   "source": [
    "le = LabelEncoder()"
   ]
  },
  {
   "cell_type": "code",
   "execution_count": 22,
   "metadata": {},
   "outputs": [],
   "source": [
    "Y_train = le.fit_transform(Y_train.astype(str))\n",
    "Y_test = le.fit_transform(Y_test.astype(str))"
   ]
  },
  {
   "cell_type": "code",
   "execution_count": 23,
   "metadata": {},
   "outputs": [],
   "source": [
    "Y_train = to_categorical(Y_train)\n",
    "Y_test = to_categorical(Y_test)"
   ]
  },
  {
   "cell_type": "markdown",
   "metadata": {},
   "source": [
    "### Design the model"
   ]
  },
  {
   "cell_type": "code",
   "execution_count": 24,
   "metadata": {},
   "outputs": [],
   "source": [
    "model = Sequential()"
   ]
  },
  {
   "cell_type": "markdown",
   "metadata": {},
   "source": [
    "Designing an input layer with the number of featuers as input"
   ]
  },
  {
   "cell_type": "code",
   "execution_count": 25,
   "metadata": {},
   "outputs": [],
   "source": [
    "model.add(InputLayer(input_shape=(X_train.shape[1],)))"
   ]
  },
  {
   "cell_type": "markdown",
   "metadata": {},
   "source": [
    "adding and hidden layer"
   ]
  },
  {
   "cell_type": "code",
   "execution_count": 26,
   "metadata": {},
   "outputs": [],
   "source": [
    "model.add(Dense(12, activation='relu'))"
   ]
  },
  {
   "cell_type": "markdown",
   "metadata": {},
   "source": [
    "Output layer with the softmax activation function because we have a classification task, with the number of neurons corresponding to the number of classes"
   ]
  },
  {
   "cell_type": "code",
   "execution_count": 27,
   "metadata": {},
   "outputs": [],
   "source": [
    "model.add(Dense(2, activation='softmax'))"
   ]
  },
  {
   "cell_type": "markdown",
   "metadata": {},
   "source": [
    "model compile, loss set equal to categorical crossentropy, optimizer adam and metrcis accuracy"
   ]
  },
  {
   "cell_type": "code",
   "execution_count": 28,
   "metadata": {},
   "outputs": [],
   "source": [
    "model.compile(loss='categorical_crossentropy', optimizer='adam', metrics=['accuracy'])"
   ]
  },
  {
   "cell_type": "markdown",
   "metadata": {},
   "source": [
    "### Fitting the model"
   ]
  },
  {
   "cell_type": "code",
   "execution_count": 29,
   "metadata": {},
   "outputs": [
    {
     "name": "stdout",
     "output_type": "stream",
     "text": [
      "Epoch 1/100\n",
      "14/14 [==============================] - 0s 744us/step - loss: 0.7328 - accuracy: 0.5933\n",
      "Epoch 2/100\n",
      "14/14 [==============================] - 0s 655us/step - loss: 0.6997 - accuracy: 0.6555\n",
      "Epoch 3/100\n",
      "14/14 [==============================] - 0s 870us/step - loss: 0.6719 - accuracy: 0.7129\n",
      "Epoch 4/100\n",
      "14/14 [==============================] - 0s 960us/step - loss: 0.6450 - accuracy: 0.7225\n",
      "Epoch 5/100\n",
      "14/14 [==============================] - 0s 907us/step - loss: 0.6223 - accuracy: 0.7321\n",
      "Epoch 6/100\n",
      "14/14 [==============================] - 0s 811us/step - loss: 0.6018 - accuracy: 0.7464\n",
      "Epoch 7/100\n",
      "14/14 [==============================] - 0s 766us/step - loss: 0.5830 - accuracy: 0.7512\n",
      "Epoch 8/100\n",
      "14/14 [==============================] - 0s 815us/step - loss: 0.5646 - accuracy: 0.7560\n",
      "Epoch 9/100\n",
      "14/14 [==============================] - 0s 786us/step - loss: 0.5448 - accuracy: 0.7656\n",
      "Epoch 10/100\n",
      "14/14 [==============================] - 0s 766us/step - loss: 0.5309 - accuracy: 0.7703\n",
      "Epoch 11/100\n",
      "14/14 [==============================] - 0s 637us/step - loss: 0.5149 - accuracy: 0.7895\n",
      "Epoch 12/100\n",
      "14/14 [==============================] - 0s 690us/step - loss: 0.5024 - accuracy: 0.7895\n",
      "Epoch 13/100\n",
      "14/14 [==============================] - 0s 821us/step - loss: 0.4915 - accuracy: 0.7943\n",
      "Epoch 14/100\n",
      "14/14 [==============================] - 0s 794us/step - loss: 0.4814 - accuracy: 0.7990\n",
      "Epoch 15/100\n",
      "14/14 [==============================] - 0s 808us/step - loss: 0.4677 - accuracy: 0.7990\n",
      "Epoch 16/100\n",
      "14/14 [==============================] - 0s 783us/step - loss: 0.4566 - accuracy: 0.8038\n",
      "Epoch 17/100\n",
      "14/14 [==============================] - 0s 793us/step - loss: 0.4457 - accuracy: 0.8182\n",
      "Epoch 18/100\n",
      "14/14 [==============================] - 0s 821us/step - loss: 0.4364 - accuracy: 0.8182\n",
      "Epoch 19/100\n",
      "14/14 [==============================] - 0s 825us/step - loss: 0.4285 - accuracy: 0.8230\n",
      "Epoch 20/100\n",
      "14/14 [==============================] - 0s 830us/step - loss: 0.4199 - accuracy: 0.8230\n",
      "Epoch 21/100\n",
      "14/14 [==============================] - 0s 783us/step - loss: 0.4120 - accuracy: 0.8278\n",
      "Epoch 22/100\n",
      "14/14 [==============================] - 0s 769us/step - loss: 0.4044 - accuracy: 0.8325\n",
      "Epoch 23/100\n",
      "14/14 [==============================] - 0s 762us/step - loss: 0.3981 - accuracy: 0.8469\n",
      "Epoch 24/100\n",
      "14/14 [==============================] - 0s 776us/step - loss: 0.3922 - accuracy: 0.8373\n",
      "Epoch 25/100\n",
      "14/14 [==============================] - 0s 912us/step - loss: 0.3869 - accuracy: 0.8373\n",
      "Epoch 26/100\n",
      "14/14 [==============================] - 0s 838us/step - loss: 0.3813 - accuracy: 0.8373\n",
      "Epoch 27/100\n",
      "14/14 [==============================] - 0s 746us/step - loss: 0.3768 - accuracy: 0.8421\n",
      "Epoch 28/100\n",
      "14/14 [==============================] - 0s 699us/step - loss: 0.3720 - accuracy: 0.8421\n",
      "Epoch 29/100\n",
      "14/14 [==============================] - 0s 764us/step - loss: 0.3669 - accuracy: 0.8469\n",
      "Epoch 30/100\n",
      "14/14 [==============================] - 0s 816us/step - loss: 0.3628 - accuracy: 0.8517\n",
      "Epoch 31/100\n",
      "14/14 [==============================] - 0s 922us/step - loss: 0.3586 - accuracy: 0.8517\n",
      "Epoch 32/100\n",
      "14/14 [==============================] - 0s 713us/step - loss: 0.3543 - accuracy: 0.8517\n",
      "Epoch 33/100\n",
      "14/14 [==============================] - 0s 906us/step - loss: 0.3500 - accuracy: 0.8565\n",
      "Epoch 34/100\n",
      "14/14 [==============================] - 0s 786us/step - loss: 0.3465 - accuracy: 0.8565\n",
      "Epoch 35/100\n",
      "14/14 [==============================] - 0s 870us/step - loss: 0.3430 - accuracy: 0.8612\n",
      "Epoch 36/100\n",
      "14/14 [==============================] - 0s 789us/step - loss: 0.3397 - accuracy: 0.8565\n",
      "Epoch 37/100\n",
      "14/14 [==============================] - 0s 867us/step - loss: 0.3368 - accuracy: 0.8565\n",
      "Epoch 38/100\n",
      "14/14 [==============================] - 0s 1ms/step - loss: 0.3342 - accuracy: 0.8565\n",
      "Epoch 39/100\n",
      "14/14 [==============================] - 0s 804us/step - loss: 0.3313 - accuracy: 0.8565\n",
      "Epoch 40/100\n",
      "14/14 [==============================] - 0s 680us/step - loss: 0.3290 - accuracy: 0.8612\n",
      "Epoch 41/100\n",
      "14/14 [==============================] - 0s 780us/step - loss: 0.3264 - accuracy: 0.8660\n",
      "Epoch 42/100\n",
      "14/14 [==============================] - 0s 665us/step - loss: 0.3239 - accuracy: 0.8660\n",
      "Epoch 43/100\n",
      "14/14 [==============================] - 0s 846us/step - loss: 0.3214 - accuracy: 0.8660\n",
      "Epoch 44/100\n",
      "14/14 [==============================] - 0s 840us/step - loss: 0.3190 - accuracy: 0.8612\n",
      "Epoch 45/100\n",
      "14/14 [==============================] - 0s 637us/step - loss: 0.3178 - accuracy: 0.8660\n",
      "Epoch 46/100\n",
      "14/14 [==============================] - 0s 809us/step - loss: 0.3157 - accuracy: 0.8660\n",
      "Epoch 47/100\n",
      "14/14 [==============================] - 0s 775us/step - loss: 0.3143 - accuracy: 0.8660\n",
      "Epoch 48/100\n",
      "14/14 [==============================] - 0s 759us/step - loss: 0.3118 - accuracy: 0.8612\n",
      "Epoch 49/100\n",
      "14/14 [==============================] - 0s 911us/step - loss: 0.3097 - accuracy: 0.8612\n",
      "Epoch 50/100\n",
      "14/14 [==============================] - 0s 712us/step - loss: 0.3080 - accuracy: 0.8660\n",
      "Epoch 51/100\n",
      "14/14 [==============================] - 0s 639us/step - loss: 0.3067 - accuracy: 0.8660\n",
      "Epoch 52/100\n",
      "14/14 [==============================] - 0s 837us/step - loss: 0.3053 - accuracy: 0.8612\n",
      "Epoch 53/100\n",
      "14/14 [==============================] - 0s 618us/step - loss: 0.3034 - accuracy: 0.8612\n",
      "Epoch 54/100\n",
      "14/14 [==============================] - 0s 698us/step - loss: 0.3021 - accuracy: 0.8660\n",
      "Epoch 55/100\n",
      "14/14 [==============================] - 0s 773us/step - loss: 0.3006 - accuracy: 0.8708\n",
      "Epoch 56/100\n",
      "14/14 [==============================] - 0s 576us/step - loss: 0.2991 - accuracy: 0.8708\n",
      "Epoch 57/100\n",
      "14/14 [==============================] - 0s 796us/step - loss: 0.2977 - accuracy: 0.8756\n",
      "Epoch 58/100\n",
      "14/14 [==============================] - 0s 750us/step - loss: 0.2960 - accuracy: 0.8756\n",
      "Epoch 59/100\n",
      "14/14 [==============================] - 0s 695us/step - loss: 0.2948 - accuracy: 0.8756\n",
      "Epoch 60/100\n",
      "14/14 [==============================] - 0s 722us/step - loss: 0.2935 - accuracy: 0.8756\n",
      "Epoch 61/100\n",
      "14/14 [==============================] - 0s 730us/step - loss: 0.2919 - accuracy: 0.8756\n",
      "Epoch 62/100\n",
      "14/14 [==============================] - 0s 660us/step - loss: 0.2905 - accuracy: 0.8756\n",
      "Epoch 63/100\n",
      "14/14 [==============================] - 0s 661us/step - loss: 0.2895 - accuracy: 0.8756\n",
      "Epoch 64/100\n",
      "14/14 [==============================] - 0s 608us/step - loss: 0.2880 - accuracy: 0.8756\n",
      "Epoch 65/100\n",
      "14/14 [==============================] - 0s 634us/step - loss: 0.2866 - accuracy: 0.8756\n",
      "Epoch 66/100\n",
      "14/14 [==============================] - 0s 621us/step - loss: 0.2856 - accuracy: 0.8756\n",
      "Epoch 67/100\n",
      "14/14 [==============================] - 0s 669us/step - loss: 0.2842 - accuracy: 0.8852\n",
      "Epoch 68/100\n",
      "14/14 [==============================] - 0s 672us/step - loss: 0.2836 - accuracy: 0.8852\n",
      "Epoch 69/100\n",
      "14/14 [==============================] - 0s 734us/step - loss: 0.2819 - accuracy: 0.8804\n",
      "Epoch 70/100\n",
      "14/14 [==============================] - 0s 754us/step - loss: 0.2806 - accuracy: 0.8804\n",
      "Epoch 71/100\n",
      "14/14 [==============================] - 0s 657us/step - loss: 0.2797 - accuracy: 0.8708\n",
      "Epoch 72/100\n",
      "14/14 [==============================] - 0s 711us/step - loss: 0.2791 - accuracy: 0.8804\n",
      "Epoch 73/100\n",
      "14/14 [==============================] - 0s 643us/step - loss: 0.2780 - accuracy: 0.8804\n",
      "Epoch 74/100\n",
      "14/14 [==============================] - 0s 662us/step - loss: 0.2767 - accuracy: 0.8900\n",
      "Epoch 75/100\n",
      "14/14 [==============================] - 0s 592us/step - loss: 0.2752 - accuracy: 0.8947\n",
      "Epoch 76/100\n",
      "14/14 [==============================] - 0s 631us/step - loss: 0.2743 - accuracy: 0.8947\n",
      "Epoch 77/100\n",
      "14/14 [==============================] - 0s 625us/step - loss: 0.2730 - accuracy: 0.8900\n",
      "Epoch 78/100\n",
      "14/14 [==============================] - 0s 632us/step - loss: 0.2721 - accuracy: 0.8900\n",
      "Epoch 79/100\n",
      "14/14 [==============================] - 0s 680us/step - loss: 0.2717 - accuracy: 0.8947\n",
      "Epoch 80/100\n",
      "14/14 [==============================] - 0s 640us/step - loss: 0.2702 - accuracy: 0.8947\n",
      "Epoch 81/100\n"
     ]
    },
    {
     "name": "stdout",
     "output_type": "stream",
     "text": [
      "14/14 [==============================] - 0s 681us/step - loss: 0.2693 - accuracy: 0.8947\n",
      "Epoch 82/100\n",
      "14/14 [==============================] - 0s 588us/step - loss: 0.2682 - accuracy: 0.8947\n",
      "Epoch 83/100\n",
      "14/14 [==============================] - 0s 637us/step - loss: 0.2676 - accuracy: 0.8947\n",
      "Epoch 84/100\n",
      "14/14 [==============================] - 0s 754us/step - loss: 0.2669 - accuracy: 0.8995\n",
      "Epoch 85/100\n",
      "14/14 [==============================] - 0s 756us/step - loss: 0.2657 - accuracy: 0.8995\n",
      "Epoch 86/100\n",
      "14/14 [==============================] - 0s 690us/step - loss: 0.2649 - accuracy: 0.8947\n",
      "Epoch 87/100\n",
      "14/14 [==============================] - 0s 666us/step - loss: 0.2641 - accuracy: 0.8900\n",
      "Epoch 88/100\n",
      "14/14 [==============================] - 0s 689us/step - loss: 0.2643 - accuracy: 0.8947\n",
      "Epoch 89/100\n",
      "14/14 [==============================] - 0s 658us/step - loss: 0.2632 - accuracy: 0.8947\n",
      "Epoch 90/100\n",
      "14/14 [==============================] - 0s 651us/step - loss: 0.2620 - accuracy: 0.8947\n",
      "Epoch 91/100\n",
      "14/14 [==============================] - 0s 689us/step - loss: 0.2612 - accuracy: 0.8995\n",
      "Epoch 92/100\n",
      "14/14 [==============================] - 0s 617us/step - loss: 0.2601 - accuracy: 0.8947\n",
      "Epoch 93/100\n",
      "14/14 [==============================] - 0s 602us/step - loss: 0.2599 - accuracy: 0.8995\n",
      "Epoch 94/100\n",
      "14/14 [==============================] - 0s 653us/step - loss: 0.2601 - accuracy: 0.8995\n",
      "Epoch 95/100\n",
      "14/14 [==============================] - 0s 627us/step - loss: 0.2590 - accuracy: 0.8995\n",
      "Epoch 96/100\n",
      "14/14 [==============================] - 0s 662us/step - loss: 0.2580 - accuracy: 0.8995\n",
      "Epoch 97/100\n",
      "14/14 [==============================] - 0s 664us/step - loss: 0.2568 - accuracy: 0.8947\n",
      "Epoch 98/100\n",
      "14/14 [==============================] - 0s 674us/step - loss: 0.2558 - accuracy: 0.8947\n",
      "Epoch 99/100\n",
      "14/14 [==============================] - 0s 580us/step - loss: 0.2548 - accuracy: 0.8995\n",
      "Epoch 100/100\n",
      "14/14 [==============================] - 0s 598us/step - loss: 0.2533 - accuracy: 0.8947\n"
     ]
    },
    {
     "data": {
      "text/plain": [
       "<tensorflow.python.keras.callbacks.History at 0x14a4eb7d0>"
      ]
     },
     "execution_count": 29,
     "metadata": {},
     "output_type": "execute_result"
    }
   ],
   "source": [
    "#model.fit(X_train, Y_train, epochs = 100, batch_size = 16)"
   ]
  },
  {
   "cell_type": "code",
   "execution_count": 36,
   "metadata": {},
   "outputs": [
    {
     "name": "stdout",
     "output_type": "stream",
     "text": [
      "Epoch 1/100\n",
      "10/10 [==============================] - 0s 5ms/step - loss: 0.2212 - accuracy: 0.9041 - val_loss: 0.3274 - val_accuracy: 0.8730\n",
      "Epoch 2/100\n",
      "10/10 [==============================] - 0s 2ms/step - loss: 0.2199 - accuracy: 0.9041 - val_loss: 0.3284 - val_accuracy: 0.8730\n",
      "Epoch 3/100\n",
      "10/10 [==============================] - 0s 3ms/step - loss: 0.2185 - accuracy: 0.9041 - val_loss: 0.3301 - val_accuracy: 0.8730\n",
      "Epoch 4/100\n",
      "10/10 [==============================] - 0s 3ms/step - loss: 0.2172 - accuracy: 0.9110 - val_loss: 0.3321 - val_accuracy: 0.8730\n",
      "Epoch 5/100\n",
      "10/10 [==============================] - 0s 3ms/step - loss: 0.2158 - accuracy: 0.9178 - val_loss: 0.3335 - val_accuracy: 0.8730\n",
      "Epoch 6/100\n",
      "10/10 [==============================] - 0s 3ms/step - loss: 0.2148 - accuracy: 0.9178 - val_loss: 0.3347 - val_accuracy: 0.8730\n",
      "Epoch 7/100\n",
      "10/10 [==============================] - 0s 2ms/step - loss: 0.2136 - accuracy: 0.9178 - val_loss: 0.3359 - val_accuracy: 0.8730\n",
      "Epoch 8/100\n",
      "10/10 [==============================] - 0s 2ms/step - loss: 0.2127 - accuracy: 0.9178 - val_loss: 0.3369 - val_accuracy: 0.8730\n",
      "Epoch 9/100\n",
      "10/10 [==============================] - 0s 2ms/step - loss: 0.2120 - accuracy: 0.9110 - val_loss: 0.3359 - val_accuracy: 0.8730\n",
      "Epoch 10/100\n",
      "10/10 [==============================] - 0s 2ms/step - loss: 0.2111 - accuracy: 0.9110 - val_loss: 0.3371 - val_accuracy: 0.8730\n",
      "Epoch 11/100\n",
      "10/10 [==============================] - 0s 2ms/step - loss: 0.2103 - accuracy: 0.9110 - val_loss: 0.3385 - val_accuracy: 0.8571\n",
      "Epoch 12/100\n",
      "10/10 [==============================] - 0s 2ms/step - loss: 0.2090 - accuracy: 0.9110 - val_loss: 0.3396 - val_accuracy: 0.8571\n",
      "Epoch 13/100\n",
      "10/10 [==============================] - 0s 2ms/step - loss: 0.2084 - accuracy: 0.9178 - val_loss: 0.3412 - val_accuracy: 0.8571\n",
      "Epoch 14/100\n",
      "10/10 [==============================] - 0s 2ms/step - loss: 0.2073 - accuracy: 0.9178 - val_loss: 0.3431 - val_accuracy: 0.8730\n",
      "Epoch 15/100\n",
      "10/10 [==============================] - 0s 2ms/step - loss: 0.2064 - accuracy: 0.9178 - val_loss: 0.3438 - val_accuracy: 0.8730\n",
      "Epoch 16/100\n",
      "10/10 [==============================] - 0s 2ms/step - loss: 0.2059 - accuracy: 0.9178 - val_loss: 0.3416 - val_accuracy: 0.8571\n",
      "Epoch 17/100\n",
      "10/10 [==============================] - 0s 2ms/step - loss: 0.2057 - accuracy: 0.9110 - val_loss: 0.3414 - val_accuracy: 0.8571\n",
      "Epoch 18/100\n",
      "10/10 [==============================] - 0s 2ms/step - loss: 0.2051 - accuracy: 0.9110 - val_loss: 0.3422 - val_accuracy: 0.8571\n",
      "Epoch 19/100\n",
      "10/10 [==============================] - 0s 2ms/step - loss: 0.2044 - accuracy: 0.9110 - val_loss: 0.3428 - val_accuracy: 0.8571\n",
      "Epoch 20/100\n",
      "10/10 [==============================] - 0s 2ms/step - loss: 0.2045 - accuracy: 0.9247 - val_loss: 0.3404 - val_accuracy: 0.8413\n",
      "Epoch 21/100\n",
      "10/10 [==============================] - 0s 3ms/step - loss: 0.2044 - accuracy: 0.9178 - val_loss: 0.3404 - val_accuracy: 0.8413\n",
      "Epoch 22/100\n",
      "10/10 [==============================] - 0s 2ms/step - loss: 0.2036 - accuracy: 0.9178 - val_loss: 0.3439 - val_accuracy: 0.8413\n",
      "Epoch 23/100\n",
      "10/10 [==============================] - 0s 2ms/step - loss: 0.2021 - accuracy: 0.9178 - val_loss: 0.3457 - val_accuracy: 0.8254\n",
      "Epoch 24/100\n",
      "10/10 [==============================] - 0s 3ms/step - loss: 0.2017 - accuracy: 0.9247 - val_loss: 0.3465 - val_accuracy: 0.8571\n",
      "Epoch 25/100\n",
      "10/10 [==============================] - 0s 3ms/step - loss: 0.2008 - accuracy: 0.9247 - val_loss: 0.3474 - val_accuracy: 0.8571\n",
      "Epoch 26/100\n",
      "10/10 [==============================] - 0s 3ms/step - loss: 0.2002 - accuracy: 0.9315 - val_loss: 0.3491 - val_accuracy: 0.8571\n",
      "Epoch 27/100\n",
      "10/10 [==============================] - 0s 2ms/step - loss: 0.1994 - accuracy: 0.9315 - val_loss: 0.3500 - val_accuracy: 0.8571\n",
      "Epoch 28/100\n",
      "10/10 [==============================] - 0s 3ms/step - loss: 0.1989 - accuracy: 0.9315 - val_loss: 0.3505 - val_accuracy: 0.8571\n",
      "Epoch 29/100\n",
      "10/10 [==============================] - 0s 3ms/step - loss: 0.1981 - accuracy: 0.9315 - val_loss: 0.3485 - val_accuracy: 0.8571\n",
      "Epoch 30/100\n",
      "10/10 [==============================] - 0s 2ms/step - loss: 0.1970 - accuracy: 0.9315 - val_loss: 0.3446 - val_accuracy: 0.8413\n",
      "Epoch 31/100\n",
      "10/10 [==============================] - 0s 3ms/step - loss: 0.1977 - accuracy: 0.9315 - val_loss: 0.3437 - val_accuracy: 0.8413\n",
      "Epoch 32/100\n",
      "10/10 [==============================] - 0s 3ms/step - loss: 0.1972 - accuracy: 0.9315 - val_loss: 0.3441 - val_accuracy: 0.8413\n",
      "Epoch 33/100\n",
      "10/10 [==============================] - 0s 3ms/step - loss: 0.1966 - accuracy: 0.9315 - val_loss: 0.3444 - val_accuracy: 0.8413\n",
      "Epoch 34/100\n",
      "10/10 [==============================] - 0s 3ms/step - loss: 0.1958 - accuracy: 0.9315 - val_loss: 0.3460 - val_accuracy: 0.8413\n",
      "Epoch 35/100\n",
      "10/10 [==============================] - 0s 3ms/step - loss: 0.1947 - accuracy: 0.9315 - val_loss: 0.3478 - val_accuracy: 0.8254\n",
      "Epoch 36/100\n",
      "10/10 [==============================] - 0s 3ms/step - loss: 0.1940 - accuracy: 0.9315 - val_loss: 0.3491 - val_accuracy: 0.8254\n",
      "Epoch 37/100\n",
      "10/10 [==============================] - 0s 3ms/step - loss: 0.1935 - accuracy: 0.9315 - val_loss: 0.3493 - val_accuracy: 0.8254\n",
      "Epoch 38/100\n",
      "10/10 [==============================] - 0s 3ms/step - loss: 0.1927 - accuracy: 0.9315 - val_loss: 0.3497 - val_accuracy: 0.8254\n",
      "Epoch 39/100\n",
      "10/10 [==============================] - 0s 3ms/step - loss: 0.1919 - accuracy: 0.9315 - val_loss: 0.3503 - val_accuracy: 0.8254\n",
      "Epoch 40/100\n",
      "10/10 [==============================] - 0s 3ms/step - loss: 0.1914 - accuracy: 0.9315 - val_loss: 0.3501 - val_accuracy: 0.8254\n",
      "Epoch 41/100\n",
      "10/10 [==============================] - 0s 3ms/step - loss: 0.1903 - accuracy: 0.9315 - val_loss: 0.3509 - val_accuracy: 0.8254\n",
      "Epoch 42/100\n",
      "10/10 [==============================] - 0s 2ms/step - loss: 0.1899 - accuracy: 0.9315 - val_loss: 0.3513 - val_accuracy: 0.8254\n",
      "Epoch 43/100\n",
      "10/10 [==============================] - 0s 2ms/step - loss: 0.1890 - accuracy: 0.9315 - val_loss: 0.3519 - val_accuracy: 0.8254\n",
      "Epoch 44/100\n",
      "10/10 [==============================] - 0s 2ms/step - loss: 0.1884 - accuracy: 0.9315 - val_loss: 0.3523 - val_accuracy: 0.8254\n",
      "Epoch 45/100\n",
      "10/10 [==============================] - 0s 2ms/step - loss: 0.1878 - accuracy: 0.9315 - val_loss: 0.3524 - val_accuracy: 0.8254\n",
      "Epoch 46/100\n",
      "10/10 [==============================] - 0s 2ms/step - loss: 0.1871 - accuracy: 0.9315 - val_loss: 0.3533 - val_accuracy: 0.8254\n",
      "Epoch 47/100\n",
      "10/10 [==============================] - 0s 2ms/step - loss: 0.1870 - accuracy: 0.9315 - val_loss: 0.3534 - val_accuracy: 0.8413\n",
      "Epoch 48/100\n",
      "10/10 [==============================] - 0s 2ms/step - loss: 0.1863 - accuracy: 0.9315 - val_loss: 0.3543 - val_accuracy: 0.8413\n",
      "Epoch 49/100\n",
      "10/10 [==============================] - 0s 2ms/step - loss: 0.1857 - accuracy: 0.9315 - val_loss: 0.3541 - val_accuracy: 0.8254\n",
      "Epoch 50/100\n",
      "10/10 [==============================] - 0s 2ms/step - loss: 0.1850 - accuracy: 0.9315 - val_loss: 0.3544 - val_accuracy: 0.8254\n",
      "Epoch 51/100\n",
      "10/10 [==============================] - 0s 2ms/step - loss: 0.1843 - accuracy: 0.9315 - val_loss: 0.3555 - val_accuracy: 0.8254\n",
      "Epoch 52/100\n",
      "10/10 [==============================] - 0s 2ms/step - loss: 0.1836 - accuracy: 0.9315 - val_loss: 0.3560 - val_accuracy: 0.8254\n",
      "Epoch 53/100\n",
      "10/10 [==============================] - 0s 2ms/step - loss: 0.1832 - accuracy: 0.9315 - val_loss: 0.3560 - val_accuracy: 0.8254\n",
      "Epoch 54/100\n",
      "10/10 [==============================] - 0s 2ms/step - loss: 0.1824 - accuracy: 0.9315 - val_loss: 0.3561 - val_accuracy: 0.8254\n",
      "Epoch 55/100\n",
      "10/10 [==============================] - 0s 2ms/step - loss: 0.1820 - accuracy: 0.9315 - val_loss: 0.3562 - val_accuracy: 0.8254\n",
      "Epoch 56/100\n",
      "10/10 [==============================] - 0s 2ms/step - loss: 0.1813 - accuracy: 0.9315 - val_loss: 0.3569 - val_accuracy: 0.8254\n",
      "Epoch 57/100\n",
      "10/10 [==============================] - 0s 2ms/step - loss: 0.1809 - accuracy: 0.9315 - val_loss: 0.3571 - val_accuracy: 0.8254\n",
      "Epoch 58/100\n",
      "10/10 [==============================] - 0s 2ms/step - loss: 0.1804 - accuracy: 0.9315 - val_loss: 0.3578 - val_accuracy: 0.8254\n"
     ]
    },
    {
     "name": "stdout",
     "output_type": "stream",
     "text": [
      "Epoch 59/100\n",
      "10/10 [==============================] - 0s 2ms/step - loss: 0.1799 - accuracy: 0.9315 - val_loss: 0.3555 - val_accuracy: 0.8254\n",
      "Epoch 60/100\n",
      "10/10 [==============================] - 0s 2ms/step - loss: 0.1793 - accuracy: 0.9315 - val_loss: 0.3555 - val_accuracy: 0.8254\n",
      "Epoch 61/100\n",
      "10/10 [==============================] - 0s 2ms/step - loss: 0.1790 - accuracy: 0.9315 - val_loss: 0.3558 - val_accuracy: 0.8254\n",
      "Epoch 62/100\n",
      "10/10 [==============================] - 0s 2ms/step - loss: 0.1785 - accuracy: 0.9315 - val_loss: 0.3562 - val_accuracy: 0.8254\n",
      "Epoch 63/100\n",
      "10/10 [==============================] - 0s 2ms/step - loss: 0.1780 - accuracy: 0.9315 - val_loss: 0.3574 - val_accuracy: 0.8254\n",
      "Epoch 64/100\n",
      "10/10 [==============================] - 0s 2ms/step - loss: 0.1776 - accuracy: 0.9315 - val_loss: 0.3588 - val_accuracy: 0.8254\n",
      "Epoch 65/100\n",
      "10/10 [==============================] - 0s 2ms/step - loss: 0.1771 - accuracy: 0.9315 - val_loss: 0.3577 - val_accuracy: 0.8254\n",
      "Epoch 66/100\n",
      "10/10 [==============================] - 0s 2ms/step - loss: 0.1763 - accuracy: 0.9315 - val_loss: 0.3592 - val_accuracy: 0.8254\n",
      "Epoch 67/100\n",
      "10/10 [==============================] - 0s 2ms/step - loss: 0.1761 - accuracy: 0.9315 - val_loss: 0.3605 - val_accuracy: 0.8254\n",
      "Epoch 68/100\n",
      "10/10 [==============================] - 0s 2ms/step - loss: 0.1753 - accuracy: 0.9384 - val_loss: 0.3598 - val_accuracy: 0.8254\n",
      "Epoch 69/100\n",
      "10/10 [==============================] - 0s 2ms/step - loss: 0.1750 - accuracy: 0.9315 - val_loss: 0.3582 - val_accuracy: 0.8254\n",
      "Epoch 70/100\n",
      "10/10 [==============================] - 0s 2ms/step - loss: 0.1746 - accuracy: 0.9315 - val_loss: 0.3589 - val_accuracy: 0.8254\n",
      "Epoch 71/100\n",
      "10/10 [==============================] - 0s 2ms/step - loss: 0.1742 - accuracy: 0.9315 - val_loss: 0.3609 - val_accuracy: 0.8254\n",
      "Epoch 72/100\n",
      "10/10 [==============================] - 0s 2ms/step - loss: 0.1733 - accuracy: 0.9384 - val_loss: 0.3617 - val_accuracy: 0.8254\n",
      "Epoch 73/100\n",
      "10/10 [==============================] - 0s 2ms/step - loss: 0.1731 - accuracy: 0.9384 - val_loss: 0.3629 - val_accuracy: 0.8254\n",
      "Epoch 74/100\n",
      "10/10 [==============================] - 0s 2ms/step - loss: 0.1723 - accuracy: 0.9384 - val_loss: 0.3628 - val_accuracy: 0.8254\n",
      "Epoch 75/100\n",
      "10/10 [==============================] - 0s 2ms/step - loss: 0.1719 - accuracy: 0.9384 - val_loss: 0.3639 - val_accuracy: 0.8254\n",
      "Epoch 76/100\n",
      "10/10 [==============================] - 0s 2ms/step - loss: 0.1716 - accuracy: 0.9315 - val_loss: 0.3639 - val_accuracy: 0.8254\n",
      "Epoch 77/100\n",
      "10/10 [==============================] - 0s 2ms/step - loss: 0.1707 - accuracy: 0.9315 - val_loss: 0.3647 - val_accuracy: 0.8254\n",
      "Epoch 78/100\n",
      "10/10 [==============================] - 0s 2ms/step - loss: 0.1702 - accuracy: 0.9315 - val_loss: 0.3657 - val_accuracy: 0.8254\n",
      "Epoch 79/100\n",
      "10/10 [==============================] - 0s 2ms/step - loss: 0.1698 - accuracy: 0.9315 - val_loss: 0.3661 - val_accuracy: 0.8254\n",
      "Epoch 80/100\n",
      "10/10 [==============================] - 0s 2ms/step - loss: 0.1691 - accuracy: 0.9315 - val_loss: 0.3669 - val_accuracy: 0.8254\n",
      "Epoch 81/100\n",
      "10/10 [==============================] - 0s 2ms/step - loss: 0.1686 - accuracy: 0.9315 - val_loss: 0.3680 - val_accuracy: 0.8254\n",
      "Epoch 82/100\n",
      "10/10 [==============================] - 0s 2ms/step - loss: 0.1683 - accuracy: 0.9315 - val_loss: 0.3698 - val_accuracy: 0.8254\n",
      "Epoch 83/100\n",
      "10/10 [==============================] - 0s 2ms/step - loss: 0.1677 - accuracy: 0.9315 - val_loss: 0.3702 - val_accuracy: 0.8095\n",
      "Epoch 84/100\n",
      "10/10 [==============================] - 0s 2ms/step - loss: 0.1671 - accuracy: 0.9315 - val_loss: 0.3697 - val_accuracy: 0.8095\n",
      "Epoch 85/100\n",
      "10/10 [==============================] - 0s 2ms/step - loss: 0.1669 - accuracy: 0.9315 - val_loss: 0.3687 - val_accuracy: 0.8095\n",
      "Epoch 86/100\n",
      "10/10 [==============================] - 0s 2ms/step - loss: 0.1664 - accuracy: 0.9315 - val_loss: 0.3688 - val_accuracy: 0.8095\n",
      "Epoch 87/100\n",
      "10/10 [==============================] - 0s 2ms/step - loss: 0.1658 - accuracy: 0.9315 - val_loss: 0.3694 - val_accuracy: 0.8095\n",
      "Epoch 88/100\n",
      "10/10 [==============================] - 0s 2ms/step - loss: 0.1661 - accuracy: 0.9315 - val_loss: 0.3693 - val_accuracy: 0.8095\n",
      "Epoch 89/100\n",
      "10/10 [==============================] - 0s 2ms/step - loss: 0.1650 - accuracy: 0.9315 - val_loss: 0.3709 - val_accuracy: 0.8095\n",
      "Epoch 90/100\n",
      "10/10 [==============================] - 0s 2ms/step - loss: 0.1645 - accuracy: 0.9315 - val_loss: 0.3716 - val_accuracy: 0.8095\n",
      "Epoch 91/100\n",
      "10/10 [==============================] - 0s 2ms/step - loss: 0.1640 - accuracy: 0.9315 - val_loss: 0.3724 - val_accuracy: 0.8095\n",
      "Epoch 92/100\n",
      "10/10 [==============================] - 0s 2ms/step - loss: 0.1635 - accuracy: 0.9384 - val_loss: 0.3733 - val_accuracy: 0.8095\n",
      "Epoch 93/100\n",
      "10/10 [==============================] - 0s 2ms/step - loss: 0.1632 - accuracy: 0.9384 - val_loss: 0.3757 - val_accuracy: 0.8095\n",
      "Epoch 94/100\n",
      "10/10 [==============================] - 0s 2ms/step - loss: 0.1641 - accuracy: 0.9384 - val_loss: 0.3816 - val_accuracy: 0.8095\n",
      "Epoch 95/100\n",
      "10/10 [==============================] - 0s 2ms/step - loss: 0.1634 - accuracy: 0.9384 - val_loss: 0.3811 - val_accuracy: 0.8095\n",
      "Epoch 96/100\n",
      "10/10 [==============================] - 0s 2ms/step - loss: 0.1629 - accuracy: 0.9384 - val_loss: 0.3811 - val_accuracy: 0.8095\n",
      "Epoch 97/100\n",
      "10/10 [==============================] - 0s 2ms/step - loss: 0.1623 - accuracy: 0.9384 - val_loss: 0.3809 - val_accuracy: 0.8095\n",
      "Epoch 98/100\n",
      "10/10 [==============================] - 0s 2ms/step - loss: 0.1615 - accuracy: 0.9384 - val_loss: 0.3805 - val_accuracy: 0.8095\n",
      "Epoch 99/100\n",
      "10/10 [==============================] - 0s 2ms/step - loss: 0.1611 - accuracy: 0.9384 - val_loss: 0.3800 - val_accuracy: 0.8095\n",
      "Epoch 100/100\n",
      "10/10 [==============================] - 0s 2ms/step - loss: 0.1605 - accuracy: 0.9384 - val_loss: 0.3799 - val_accuracy: 0.8095\n"
     ]
    }
   ],
   "source": [
    "history = model.fit(X_train, Y_train,\n",
    "                    validation_split = 0.3,\n",
    "                    epochs=100, \n",
    "                    batch_size=16,\n",
    "                    )"
   ]
  },
  {
   "cell_type": "markdown",
   "metadata": {},
   "source": [
    "### Evaluating the model"
   ]
  },
  {
   "cell_type": "code",
   "execution_count": 37,
   "metadata": {},
   "outputs": [],
   "source": [
    "loss, acc = model.evaluate(X_test, Y_test, verbose=0)"
   ]
  },
  {
   "cell_type": "code",
   "execution_count": 38,
   "metadata": {},
   "outputs": [
    {
     "name": "stdout",
     "output_type": "stream",
     "text": [
      "Loss 0.6480538249015808 Accuracy: 0.7666666507720947\n"
     ]
    }
   ],
   "source": [
    "print(\"Loss\", loss, \"Accuracy:\", acc)"
   ]
  },
  {
   "cell_type": "code",
   "execution_count": 40,
   "metadata": {},
   "outputs": [],
   "source": [
    "import matplotlib.pyplot as plt"
   ]
  },
  {
   "cell_type": "code",
   "execution_count": 41,
   "metadata": {},
   "outputs": [],
   "source": [
    "accuracy = history.history['accuracy']\n",
    "val_accuracy = history.history['val_accuracy']\n",
    "loss = history.history['loss']\n",
    "val_loss = history.history['val_loss']"
   ]
  },
  {
   "cell_type": "code",
   "execution_count": 42,
   "metadata": {},
   "outputs": [
    {
     "data": {
      "image/png": "[encoded data removed]",
      "text/plain": [
       "<Figure size 432x288 with 1 Axes>"
      ]
     },
     "metadata": {
      "needs_background": "light"
     },
     "output_type": "display_data"
    }
   ],
   "source": [
    "plt.plot(accuracy, 'b')\n",
    "plt.plot(val_accuracy, 'r')\n",
    "plt.title('Model accuracy')\n",
    "plt.ylabel('Accuracy')\n",
    "plt.xlabel('Epoch')\n",
    "plt.legend(['Train', 'Val'], loc='upper left')\n",
    "plt.show()"
   ]
  },
  {
   "cell_type": "code",
   "execution_count": 43,
   "metadata": {},
   "outputs": [
    {
     "data": {
      "image/png": "[encoded data removed]",
      "text/plain": [
       "<Figure size 432x288 with 1 Axes>"
      ]
     },
     "metadata": {
      "needs_background": "light"
     },
     "output_type": "display_data"
    }
   ],
   "source": [
    "plt.plot(loss, 'b')\n",
    "plt.plot(val_loss, 'r')\n",
    "plt.title('Model Loss')\n",
    "plt.ylabel('Loss')\n",
    "plt.xlabel('Epoch')\n",
    "plt.legend(['Train', 'Val'], loc='upper left')\n",
    "plt.show()"
   ]
  },
  {
   "cell_type": "markdown",
   "metadata": {},
   "source": [
    "### Predictions on the model"
   ]
  },
  {
   "cell_type": "code",
   "execution_count": 44,
   "metadata": {},
   "outputs": [],
   "source": [
    "y_estimate = model.predict(X_test, verbose=0)"
   ]
  },
  {
   "cell_type": "code",
   "execution_count": 45,
   "metadata": {},
   "outputs": [],
   "source": [
    "y_estimate = np.argmax(y_estimate, axis=1)"
   ]
  },
  {
   "cell_type": "code",
   "execution_count": 46,
   "metadata": {},
   "outputs": [],
   "source": [
    "y_true = np.argmax(Y_test, axis=1)"
   ]
  },
  {
   "cell_type": "markdown",
   "metadata": {},
   "source": [
    "### Printing additional metrics, such as F1_score"
   ]
  },
  {
   "cell_type": "code",
   "execution_count": 47,
   "metadata": {},
   "outputs": [
    {
     "name": "stdout",
     "output_type": "stream",
     "text": [
      "              precision    recall  f1-score   support\n",
      "\n",
      "           0       0.75      0.91      0.82        53\n",
      "           1       0.81      0.57      0.67        37\n",
      "\n",
      "   micro avg       0.77      0.77      0.77        90\n",
      "   macro avg       0.78      0.74      0.74        90\n",
      "weighted avg       0.77      0.77      0.76        90\n",
      "\n"
     ]
    }
   ],
   "source": [
    "print(classification_report(y_true, y_estimate))"
   ]
  },
  {
   "cell_type": "code",
   "execution_count": null,
   "metadata": {},
   "outputs": [],
   "source": []
  }
 ],
 "metadata": {
  "kernelspec": {
   "display_name": "Python 3",
   "language": "python",
   "name": "python3"
  },
  "language_info": {
   "codemirror_mode": {
    "name": "ipython",
    "version": 3
   },
   "file_extension": ".py",
   "mimetype": "text/x-python",
   "name": "python",
   "nbconvert_exporter": "python",
   "pygments_lexer": "ipython3",
   "version": "3.7.7"
  },
  "toc": {
   "base_numbering": 1,
   "nav_menu": {},
   "number_sections": true,
   "sideBar": true,
   "skip_h1_title": false,
   "title_cell": "Table of Contents",
   "title_sidebar": "Contents",
   "toc_cell": false,
   "toc_position": {},
   "toc_section_display": true,
   "toc_window_display": false
  }
 },
 "nbformat": 4,
 "nbformat_minor": 4
}
